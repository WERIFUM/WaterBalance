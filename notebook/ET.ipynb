{
 "cells": [
  {
   "attachments": {},
   "cell_type": "markdown",
   "metadata": {},
   "source": [
    "# Import Liberaries"
   ]
  },
  {
   "cell_type": "code",
   "execution_count": null,
   "metadata": {},
   "outputs": [],
   "source": [
    "import os\n",
    "import sys\n",
    "import pandas as pd\n",
    "import numpy as np\n",
    "import netCDF4 as nc\n",
    "import xarray as xr\n",
    "\n",
    "sys.path.append('/home/shirazipooya/w/WaterBalance/')"
   ]
  },
  {
   "attachments": {},
   "cell_type": "markdown",
   "metadata": {},
   "source": [
    "# Varables"
   ]
  },
  {
   "cell_type": "code",
   "execution_count": null,
   "metadata": {},
   "outputs": [],
   "source": [
    "PATH_DATA = \"/mnt/c/Users/shirazipooya/Desktop/DataQDWB/\"\n",
    "\n",
    "# Jovein\n",
    "LAT_MIN = 36.2\n",
    "LAT_MAX = 37.0\n",
    "LON_MIN = 56.2\n",
    "LON_MAX = 58.6\n",
    "\n"
   ]
  },
  {
   "attachments": {},
   "cell_type": "markdown",
   "metadata": {},
   "source": [
    "# Functions"
   ]
  },
  {
   "cell_type": "code",
   "execution_count": null,
   "metadata": {},
   "outputs": [],
   "source": [
    "def mask_nc_file(\n",
    "    nc,\n",
    "    variable,\n",
    "    lat_min,\n",
    "    lat_max,\n",
    "    lon_min,\n",
    "    lon_max\n",
    "):\n",
    "    with xr.open_dataset(nc) as xr_nc:\n",
    "        result = xr_nc.sel(\n",
    "            lat = slice(lat_max, lat_min),\n",
    "            lon = slice(lon_min, lon_max),\n",
    "        )\n",
    "    return result"
   ]
  },
  {
   "attachments": {},
   "cell_type": "markdown",
   "metadata": {},
   "source": [
    "# Load Data"
   ]
  },
  {
   "cell_type": "code",
   "execution_count": null,
   "metadata": {},
   "outputs": [],
   "source": [
    "tmax = mask_nc_file(\n",
    "    nc = PATH_DATA + \"Tmax_2022031.nc\",\n",
    "    variable = \"air_temperature\",\n",
    "    lat_min = LAT_MIN,\n",
    "    lat_max = LAT_MAX,\n",
    "    lon_min = LON_MIN,\n",
    "    lon_max = LON_MAX\n",
    ")\n",
    "\n",
    "tmin = mask_nc_file(\n",
    "    nc = PATH_DATA + \"Tmin_2022031.nc\",\n",
    "    variable = \"air_temperature\",\n",
    "    lat_min = LAT_MIN,\n",
    "    lat_max = LAT_MAX,\n",
    "    lon_min = LON_MIN,\n",
    "    lon_max = LON_MAX\n",
    ")\n",
    "\n",
    "\n",
    "tmean = mask_nc_file(\n",
    "    nc = PATH_DATA + \"Temp_2022031.nc\",\n",
    "    variable = \"air_temperature\",\n",
    "    lat_min = LAT_MIN,\n",
    "    lat_max = LAT_MAX,\n",
    "    lon_min = LON_MIN,\n",
    "    lon_max = LON_MAX\n",
    ")\n"
   ]
  },
  {
   "attachments": {},
   "cell_type": "markdown",
   "metadata": {},
   "source": [
    "### Estimate Reference Crop Evapotranspiration (ETo) Using the Hargreaves and Samani Method."
   ]
  },
  {
   "cell_type": "code",
   "execution_count": null,
   "metadata": {},
   "outputs": [],
   "source": [
    "from qdwb.evapotranspiration.et import *\n",
    "from qdwb.evapotranspiration.asset import *\n",
    "from qdwb.evapotranspiration.convert import *\n",
    "\n",
    "ra = extraterrestrial_radiation(\n",
    "    inverse_relative_distance_earth_sun=inverse_relative_distance_earth_sun(\n",
    "        julian_date=31\n",
    "    ),\n",
    "    sunset_hour_angle=sunset_hour_angle(\n",
    "        latitude=convert_degrees2radians(tmin.lat),\n",
    "        solar_declination=solar_declination(\n",
    "            julian_date=31\n",
    "        )\n",
    "    ),\n",
    "    latitude=convert_degrees2radians(\n",
    "        degrees=tmin.lat\n",
    "    ),\n",
    "    solar_declination=solar_declination(\n",
    "        julian_date=31\n",
    "    ),\n",
    ")\n",
    "\n",
    "\n",
    "ET = ReferenceEvapotranspiration.hargreaves_samani(\n",
    "    tmin=tmin,\n",
    "    tmax=tmax,\n",
    "    tmean=tmean,\n",
    "    ra=ra\n",
    ")\n",
    "\n",
    "ra"
   ]
  },
  {
   "cell_type": "code",
   "execution_count": null,
   "metadata": {},
   "outputs": [],
   "source": [
    "a = tmin > tmax\n",
    "\n",
    "a.air_temperature.all().values"
   ]
  }
 ],
 "metadata": {
  "kernelspec": {
   "display_name": ".venv",
   "language": "python",
   "name": "python3"
  },
  "language_info": {
   "codemirror_mode": {
    "name": "ipython",
    "version": 3
   },
   "file_extension": ".py",
   "mimetype": "text/x-python",
   "name": "python",
   "nbconvert_exporter": "python",
   "pygments_lexer": "ipython3",
   "version": "3.9.16 (main, Jan 11 2023, 16:05:54) \n[GCC 11.2.0]"
  },
  "orig_nbformat": 4,
  "vscode": {
   "interpreter": {
    "hash": "7e0ae9dad643c13efdd8aa042f3fad77408c5c6af69d8b5ee3a2137d4dfb88fa"
   }
  }
 },
 "nbformat": 4,
 "nbformat_minor": 2
}
